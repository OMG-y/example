{
 "cells": [
  {
   "cell_type": "code",
   "execution_count": 1,
   "metadata": {},
   "outputs": [],
   "source": [
    "import pandas as pd\n",
    "import numpy as np"
   ]
  },
  {
   "cell_type": "code",
   "execution_count": 2,
   "metadata": {},
   "outputs": [],
   "source": [
    "df = pd.read_csv('FIFA20.csv')"
   ]
  },
  {
   "cell_type": "code",
   "execution_count": 3,
   "metadata": {},
   "outputs": [
    {
     "data": {
      "text/html": [
       "<div>\n",
       "<style scoped>\n",
       "    .dataframe tbody tr th:only-of-type {\n",
       "        vertical-align: middle;\n",
       "    }\n",
       "\n",
       "    .dataframe tbody tr th {\n",
       "        vertical-align: top;\n",
       "    }\n",
       "\n",
       "    .dataframe thead th {\n",
       "        text-align: right;\n",
       "    }\n",
       "</style>\n",
       "<table border=\"1\" class=\"dataframe\">\n",
       "  <thead>\n",
       "    <tr style=\"text-align: right;\">\n",
       "      <th></th>\n",
       "      <th>ID</th>\n",
       "      <th>Name</th>\n",
       "      <th>Age</th>\n",
       "      <th>Height(cm)</th>\n",
       "      <th>Weight(kg)</th>\n",
       "      <th>Nationality</th>\n",
       "      <th>Club</th>\n",
       "      <th>Value</th>\n",
       "      <th>Wage</th>\n",
       "      <th>Player_Position</th>\n",
       "      <th>Preferred_Foot</th>\n",
       "      <th>Body_Type</th>\n",
       "      <th>Stamina</th>\n",
       "    </tr>\n",
       "  </thead>\n",
       "  <tbody>\n",
       "    <tr>\n",
       "      <th>0</th>\n",
       "      <td>158023</td>\n",
       "      <td>L. Messi</td>\n",
       "      <td>32</td>\n",
       "      <td>170</td>\n",
       "      <td>72</td>\n",
       "      <td>Argentina</td>\n",
       "      <td>FC Barcelona</td>\n",
       "      <td>95500000</td>\n",
       "      <td>565000</td>\n",
       "      <td>RW</td>\n",
       "      <td>Left</td>\n",
       "      <td>Messi</td>\n",
       "      <td>75</td>\n",
       "    </tr>\n",
       "    <tr>\n",
       "      <th>1</th>\n",
       "      <td>20801</td>\n",
       "      <td>Cristiano Ronaldo</td>\n",
       "      <td>34</td>\n",
       "      <td>187</td>\n",
       "      <td>83</td>\n",
       "      <td>Portugal</td>\n",
       "      <td>Juventus</td>\n",
       "      <td>58500000</td>\n",
       "      <td>405000</td>\n",
       "      <td>ST</td>\n",
       "      <td>Right</td>\n",
       "      <td>C. Ronaldo</td>\n",
       "      <td>85</td>\n",
       "    </tr>\n",
       "    <tr>\n",
       "      <th>2</th>\n",
       "      <td>190871</td>\n",
       "      <td>Neymar Jr</td>\n",
       "      <td>27</td>\n",
       "      <td>175</td>\n",
       "      <td>68</td>\n",
       "      <td>Brazil</td>\n",
       "      <td>Paris Saint-Germain</td>\n",
       "      <td>105500000</td>\n",
       "      <td>290000</td>\n",
       "      <td>LW</td>\n",
       "      <td>Right</td>\n",
       "      <td>Neymar</td>\n",
       "      <td>81</td>\n",
       "    </tr>\n",
       "    <tr>\n",
       "      <th>3</th>\n",
       "      <td>200389</td>\n",
       "      <td>J. Oblak</td>\n",
       "      <td>26</td>\n",
       "      <td>188</td>\n",
       "      <td>87</td>\n",
       "      <td>Slovenia</td>\n",
       "      <td>Atlético Madrid</td>\n",
       "      <td>77500000</td>\n",
       "      <td>125000</td>\n",
       "      <td>GK</td>\n",
       "      <td>Right</td>\n",
       "      <td>Normal</td>\n",
       "      <td>41</td>\n",
       "    </tr>\n",
       "    <tr>\n",
       "      <th>4</th>\n",
       "      <td>183277</td>\n",
       "      <td>E. Hazard</td>\n",
       "      <td>28</td>\n",
       "      <td>175</td>\n",
       "      <td>74</td>\n",
       "      <td>Belgium</td>\n",
       "      <td>Real Madrid</td>\n",
       "      <td>90000000</td>\n",
       "      <td>470000</td>\n",
       "      <td>LW</td>\n",
       "      <td>Right</td>\n",
       "      <td>Normal</td>\n",
       "      <td>84</td>\n",
       "    </tr>\n",
       "  </tbody>\n",
       "</table>\n",
       "</div>"
      ],
      "text/plain": [
       "       ID               Name  Age  Height(cm)  Weight(kg) Nationality  \\\n",
       "0  158023           L. Messi   32         170          72   Argentina   \n",
       "1   20801  Cristiano Ronaldo   34         187          83    Portugal   \n",
       "2  190871          Neymar Jr   27         175          68      Brazil   \n",
       "3  200389           J. Oblak   26         188          87    Slovenia   \n",
       "4  183277          E. Hazard   28         175          74     Belgium   \n",
       "\n",
       "                  Club      Value    Wage Player_Position Preferred_Foot  \\\n",
       "0         FC Barcelona   95500000  565000              RW           Left   \n",
       "1             Juventus   58500000  405000              ST          Right   \n",
       "2  Paris Saint-Germain  105500000  290000              LW          Right   \n",
       "3      Atlético Madrid   77500000  125000              GK          Right   \n",
       "4          Real Madrid   90000000  470000              LW          Right   \n",
       "\n",
       "    Body_Type  Stamina  \n",
       "0       Messi       75  \n",
       "1  C. Ronaldo       85  \n",
       "2      Neymar       81  \n",
       "3      Normal       41  \n",
       "4      Normal       84  "
      ]
     },
     "execution_count": 3,
     "metadata": {},
     "output_type": "execute_result"
    }
   ],
   "source": [
    "df.head()"
   ]
  },
  {
   "cell_type": "code",
   "execution_count": 4,
   "metadata": {},
   "outputs": [
    {
     "data": {
      "text/plain": [
       "ID                  int64\n",
       "Name               object\n",
       "Age                 int64\n",
       "Height(cm)          int64\n",
       "Weight(kg)          int64\n",
       "Nationality        object\n",
       "Club               object\n",
       "Value               int64\n",
       "Wage                int64\n",
       "Player_Position    object\n",
       "Preferred_Foot     object\n",
       "Body_Type          object\n",
       "Stamina             int64\n",
       "dtype: object"
      ]
     },
     "execution_count": 4,
     "metadata": {},
     "output_type": "execute_result"
    }
   ],
   "source": [
    "df.dtypes"
   ]
  },
  {
   "cell_type": "markdown",
   "metadata": {},
   "source": [
    "# Q1"
   ]
  },
  {
   "cell_type": "code",
   "execution_count": 5,
   "metadata": {},
   "outputs": [
    {
     "data": {
      "text/plain": [
       "'C. Muñoz'"
      ]
     },
     "execution_count": 5,
     "metadata": {},
     "output_type": "execute_result"
    }
   ],
   "source": [
    "df[df['Age'] == df['Age'].max()]['Name'].iloc[0]"
   ]
  },
  {
   "cell_type": "markdown",
   "metadata": {},
   "source": [
    "# Q2"
   ]
  },
  {
   "cell_type": "code",
   "execution_count": 6,
   "metadata": {},
   "outputs": [
    {
     "data": {
      "text/plain": [
       "'L. Messi'"
      ]
     },
     "execution_count": 6,
     "metadata": {},
     "output_type": "execute_result"
    }
   ],
   "source": [
    "df[df['Wage'] == df['Wage'].max()]['Name'].iloc[0]"
   ]
  },
  {
   "cell_type": "markdown",
   "metadata": {},
   "source": [
    "# Q3"
   ]
  },
  {
   "cell_type": "code",
   "execution_count": 7,
   "metadata": {},
   "outputs": [
    {
     "data": {
      "text/plain": [
       "'Neymar Jr'"
      ]
     },
     "execution_count": 7,
     "metadata": {},
     "output_type": "execute_result"
    }
   ],
   "source": [
    "df[df['Value'] == df['Value'].max()]['Name'].iloc[0]"
   ]
  },
  {
   "cell_type": "markdown",
   "metadata": {},
   "source": [
    "# Q4"
   ]
  },
  {
   "cell_type": "code",
   "execution_count": 8,
   "metadata": {},
   "outputs": [
    {
     "data": {
      "text/plain": [
       "'Brazil'"
      ]
     },
     "execution_count": 8,
     "metadata": {},
     "output_type": "execute_result"
    }
   ],
   "source": [
    "df[df['Value'] == df['Value'].max()]['Nationality'].iloc[0]"
   ]
  },
  {
   "cell_type": "markdown",
   "metadata": {},
   "source": [
    "# Q5"
   ]
  },
  {
   "cell_type": "code",
   "execution_count": 9,
   "metadata": {},
   "outputs": [
    {
     "data": {
      "text/plain": [
       "['Argentina', 'Portugal', 'Brazil', 'Slovenia', 'Belgium']"
      ]
     },
     "execution_count": 9,
     "metadata": {},
     "output_type": "execute_result"
    }
   ],
   "source": [
    "df['Nationality'].iloc[:5].to_list()"
   ]
  },
  {
   "cell_type": "markdown",
   "metadata": {},
   "source": [
    "# Q6"
   ]
  },
  {
   "cell_type": "code",
   "execution_count": 10,
   "metadata": {},
   "outputs": [
    {
     "data": {
      "text/plain": [
       "['L. Messi', 'Cristiano Ronaldo', 'Neymar Jr', 'J. Oblak', 'E. Hazard']"
      ]
     },
     "execution_count": 10,
     "metadata": {},
     "output_type": "execute_result"
    }
   ],
   "source": [
    "df['Name'].iloc[:5].to_list()"
   ]
  },
  {
   "cell_type": "markdown",
   "metadata": {},
   "source": [
    "# Q7"
   ]
  },
  {
   "cell_type": "code",
   "execution_count": 11,
   "metadata": {},
   "outputs": [
    {
     "data": {
      "text/plain": [
       "2484037.640879746"
      ]
     },
     "execution_count": 11,
     "metadata": {},
     "output_type": "execute_result"
    }
   ],
   "source": [
    "df['Value'].mean()"
   ]
  },
  {
   "cell_type": "markdown",
   "metadata": {},
   "source": [
    "# Q8"
   ]
  },
  {
   "cell_type": "code",
   "execution_count": 12,
   "metadata": {},
   "outputs": [
    {
     "data": {
      "text/plain": [
       "181.36218404639456"
      ]
     },
     "execution_count": 12,
     "metadata": {},
     "output_type": "execute_result"
    }
   ],
   "source": [
    "df['Height(cm)'].mean()"
   ]
  },
  {
   "cell_type": "markdown",
   "metadata": {},
   "source": [
    "# Q9"
   ]
  },
  {
   "cell_type": "code",
   "execution_count": 13,
   "metadata": {},
   "outputs": [
    {
     "data": {
      "text/plain": [
       "1146"
      ]
     },
     "execution_count": 13,
     "metadata": {},
     "output_type": "execute_result"
    }
   ],
   "source": [
    "len(df[df['Player_Position'] == 'CAM'])"
   ]
  },
  {
   "cell_type": "markdown",
   "metadata": {},
   "source": [
    "# Q10"
   ]
  },
  {
   "cell_type": "code",
   "execution_count": 14,
   "metadata": {},
   "outputs": [
    {
     "data": {
      "text/plain": [
       "{'Argentina': 886,\n",
       " 'Portugal': 344,\n",
       " 'Brazil': 824,\n",
       " 'Slovenia': 61,\n",
       " 'Belgium': 268,\n",
       " 'Germany': 1216,\n",
       " 'Netherlands': 416,\n",
       " 'Croatia': 126,\n",
       " 'Egypt': 30,\n",
       " 'France': 984,\n",
       " 'Senegal': 127,\n",
       " 'England': 1667,\n",
       " 'Spain': 1035,\n",
       " 'Italy': 732,\n",
       " 'Uruguay': 164,\n",
       " 'Poland': 324,\n",
       " 'Denmark': 345,\n",
       " 'Gabon': 16,\n",
       " 'Korea Republic': 322,\n",
       " 'Costa Rica': 30,\n",
       " 'Slovakia': 54,\n",
       " 'Bosnia Herzegovina': 66,\n",
       " 'Serbia': 139,\n",
       " 'Scotland': 277,\n",
       " 'Hungary': 35,\n",
       " 'Switzerland': 229,\n",
       " 'Greece': 96,\n",
       " 'Austria': 319,\n",
       " 'Morocco': 94,\n",
       " 'Sweden': 358,\n",
       " 'Wales': 117,\n",
       " 'Colombia': 591,\n",
       " 'Czech Republic': 102,\n",
       " 'Chile': 370,\n",
       " 'Algeria': 50,\n",
       " 'Ivory Coast': 105,\n",
       " 'Togo': 13,\n",
       " 'Norway': 350,\n",
       " 'Mexico': 340,\n",
       " 'Iceland': 46,\n",
       " 'Finland': 72,\n",
       " 'Jamaica': 29,\n",
       " 'Albania': 43,\n",
       " 'Guinea': 35,\n",
       " 'Cameroon': 78,\n",
       " 'Ghana': 130,\n",
       " 'Montenegro': 33,\n",
       " 'Ukraine': 69,\n",
       " 'Russia': 81,\n",
       " 'DR Congo': 54,\n",
       " 'Central African Rep.': 4,\n",
       " 'Venezuela': 66,\n",
       " 'Nigeria': 126,\n",
       " 'Armenia': 8,\n",
       " 'Israel': 16,\n",
       " 'Ecuador': 53,\n",
       " 'Paraguay': 80,\n",
       " 'Australia': 196,\n",
       " 'Turkey': 294,\n",
       " 'Romania': 287,\n",
       " 'Japan': 453,\n",
       " 'Mali': 55,\n",
       " 'United States': 347,\n",
       " 'Kosovo': 40,\n",
       " 'Dominican Republic': 4,\n",
       " 'Tanzania': 4,\n",
       " 'China PR': 373,\n",
       " 'Northern Ireland': 81,\n",
       " 'Republic of Ireland': 348,\n",
       " 'Tunisia': 35,\n",
       " 'Cape Verde': 20,\n",
       " 'FYR Macedonia': 20,\n",
       " 'Burkina Faso': 16,\n",
       " 'Kenya': 7,\n",
       " 'Angola': 16,\n",
       " 'South Africa': 72,\n",
       " 'Peru': 35,\n",
       " 'Syria': 4,\n",
       " 'Gambia': 22,\n",
       " 'New Zealand': 35,\n",
       " 'Equatorial Guinea': 6,\n",
       " 'Zimbabwe': 12,\n",
       " 'Georgia': 25,\n",
       " 'Canada': 61,\n",
       " 'Estonia': 6,\n",
       " 'Benin': 15,\n",
       " 'Bulgaria': 41,\n",
       " 'Mozambique': 4,\n",
       " 'Honduras': 13,\n",
       " 'Guinea Bissau': 21,\n",
       " 'Iran': 15,\n",
       " 'Philippines': 2,\n",
       " 'Cyprus': 11,\n",
       " 'Madagascar': 8,\n",
       " 'Uzbekistan': 3,\n",
       " 'Moldova': 12,\n",
       " 'Cuba': 4,\n",
       " 'Sierra Leone': 10,\n",
       " 'Curacao': 16,\n",
       " 'Zambia': 10,\n",
       " 'Congo': 18,\n",
       " 'Bolivia': 23,\n",
       " 'Comoros': 9,\n",
       " 'Iraq': 5,\n",
       " 'Chad': 1,\n",
       " 'Lithuania': 10,\n",
       " 'Saudi Arabia': 310,\n",
       " 'Panama': 12,\n",
       " 'Libya': 4,\n",
       " 'Bahrain': 1,\n",
       " 'St Kitts Nevis': 4,\n",
       " 'New Caledonia': 2,\n",
       " 'Luxembourg': 9,\n",
       " 'Trinidad & Tobago': 6,\n",
       " 'Thailand': 4,\n",
       " 'United Arab Emirates': 22,\n",
       " 'Eritrea': 1,\n",
       " 'Korea DPR': 4,\n",
       " 'El Salvador': 4,\n",
       " 'Azerbaijan': 6,\n",
       " 'Latvia': 6,\n",
       " 'Montserrat': 3,\n",
       " 'Puerto Rico': 1,\n",
       " 'Bermuda': 3,\n",
       " 'São Tomé & Príncipe': 1,\n",
       " 'Antigua & Barbuda': 7,\n",
       " 'Burundi': 4,\n",
       " 'Kazakhstan': 2,\n",
       " 'Liberia': 1,\n",
       " 'Guyana': 4,\n",
       " 'Haiti': 7,\n",
       " 'Jordan': 1,\n",
       " 'Faroe Islands': 5,\n",
       " 'Mauritania': 5,\n",
       " 'Namibia': 2,\n",
       " 'Rwanda': 2,\n",
       " 'Uganda': 3,\n",
       " 'Hong Kong': 1,\n",
       " 'Chinese Taipei': 1,\n",
       " 'Belize': 1,\n",
       " 'Palestine': 4,\n",
       " 'Mauritius': 1,\n",
       " 'Guam': 1,\n",
       " 'Suriname': 2,\n",
       " 'Lebanon': 3,\n",
       " 'Guatemala': 2,\n",
       " 'Sudan': 3,\n",
       " 'Liechtenstein': 2,\n",
       " 'Grenada': 2,\n",
       " 'St Lucia': 1,\n",
       " 'Afghanistan': 2,\n",
       " 'Ethiopia': 1,\n",
       " 'Barbados': 1,\n",
       " 'India': 23,\n",
       " 'Malta': 2,\n",
       " 'Niger': 3,\n",
       " 'Vietnam': 1,\n",
       " 'Malawi': 1,\n",
       " 'Gibraltar': 1,\n",
       " 'Macau': 1,\n",
       " 'South Sudan': 1,\n",
       " 'Indonesia': 1}"
      ]
     },
     "execution_count": 14,
     "metadata": {},
     "output_type": "execute_result"
    }
   ],
   "source": [
    "nation_dict = {}\n",
    "for i in df['Nationality']:\n",
    "    if i not in nation_dict.keys():\n",
    "        nation_dict[i] = 1\n",
    "    else:\n",
    "        nation_dict[i] += 1\n",
    "nation_dict"
   ]
  },
  {
   "cell_type": "markdown",
   "metadata": {},
   "source": [
    "# Q11"
   ]
  },
  {
   "cell_type": "code",
   "execution_count": 15,
   "metadata": {},
   "outputs": [
    {
     "data": {
      "text/plain": [
       "'Germany'"
      ]
     },
     "execution_count": 15,
     "metadata": {},
     "output_type": "execute_result"
    }
   ],
   "source": [
    "tem = sorted(nation_dict.items(), key=lambda x:x[1], reverse=True)\n",
    "tem[1][0]"
   ]
  },
  {
   "cell_type": "markdown",
   "metadata": {},
   "source": [
    "# Q12"
   ]
  },
  {
   "cell_type": "code",
   "execution_count": 16,
   "metadata": {},
   "outputs": [
    {
     "data": {
      "text/plain": [
       "886"
      ]
     },
     "execution_count": 16,
     "metadata": {},
     "output_type": "execute_result"
    }
   ],
   "source": [
    "nation_dict['Argentina']"
   ]
  },
  {
   "cell_type": "markdown",
   "metadata": {},
   "source": [
    "# Q13"
   ]
  },
  {
   "cell_type": "code",
   "execution_count": 17,
   "metadata": {},
   "outputs": [],
   "source": [
    "def show_player_stats(player_id):\n",
    "    return df[df['ID'] == player_id].to_dict(orient='records')[0]"
   ]
  },
  {
   "cell_type": "code",
   "execution_count": 18,
   "metadata": {},
   "outputs": [
    {
     "data": {
      "text/plain": [
       "{'ID': 242444,\n",
       " 'Name': 'João Félix',\n",
       " 'Age': 19,\n",
       " 'Height(cm)': 181,\n",
       " 'Weight(kg)': 70,\n",
       " 'Nationality': 'Portugal',\n",
       " 'Club': 'Atlético Madrid',\n",
       " 'Value': 28000000,\n",
       " 'Wage': 38000,\n",
       " 'Player_Position': 'CF',\n",
       " 'Preferred_Foot': 'Right',\n",
       " 'Body_Type': 'Lean',\n",
       " 'Stamina': 79}"
      ]
     },
     "execution_count": 18,
     "metadata": {},
     "output_type": "execute_result"
    }
   ],
   "source": [
    "show_player_stats(242444)"
   ]
  },
  {
   "cell_type": "markdown",
   "metadata": {},
   "source": [
    "# Q14"
   ]
  },
  {
   "cell_type": "code",
   "execution_count": 19,
   "metadata": {},
   "outputs": [
    {
     "data": {
      "text/plain": [
       "{'ID': 211300,\n",
       " 'Name': 'A. Martial',\n",
       " 'Age': 23,\n",
       " 'Height(cm)': 184,\n",
       " 'Weight(kg)': 76,\n",
       " 'Nationality': 'France',\n",
       " 'Club': 'Manchester United',\n",
       " 'Value': 34500000,\n",
       " 'Wage': 140000,\n",
       " 'Player_Position': 'LW',\n",
       " 'Preferred_Foot': 'Right',\n",
       " 'Body_Type': 'Normal',\n",
       " 'Stamina': 75}"
      ]
     },
     "execution_count": 19,
     "metadata": {},
     "output_type": "execute_result"
    }
   ],
   "source": [
    "show_player_stats(211300)"
   ]
  },
  {
   "cell_type": "markdown",
   "metadata": {},
   "source": [
    "# Q15"
   ]
  },
  {
   "cell_type": "code",
   "execution_count": 20,
   "metadata": {},
   "outputs": [
    {
     "data": {
      "text/plain": [
       "{'ID': 198717,\n",
       " 'Name': 'W. Zaha',\n",
       " 'Age': 26,\n",
       " 'Height(cm)': 180,\n",
       " 'Weight(kg)': 66,\n",
       " 'Nationality': 'Ivory Coast',\n",
       " 'Club': 'Crystal Palace',\n",
       " 'Value': 32000000,\n",
       " 'Wage': 89000,\n",
       " 'Player_Position': 'CF',\n",
       " 'Preferred_Foot': 'Right',\n",
       " 'Body_Type': 'Lean',\n",
       " 'Stamina': 76}"
      ]
     },
     "execution_count": 20,
     "metadata": {},
     "output_type": "execute_result"
    }
   ],
   "source": [
    "show_player_stats(198717)"
   ]
  },
  {
   "cell_type": "markdown",
   "metadata": {},
   "source": [
    "# Q16"
   ]
  },
  {
   "cell_type": "code",
   "execution_count": 21,
   "metadata": {},
   "outputs": [
    {
     "data": {
      "text/plain": [
       "{'ID': 200536,\n",
       " 'Name': 'N. Schulz',\n",
       " 'Age': 26,\n",
       " 'Height(cm)': 181,\n",
       " 'Weight(kg)': 83,\n",
       " 'Nationality': 'Germany',\n",
       " 'Club': 'Borussia Dortmund',\n",
       " 'Value': 22500000,\n",
       " 'Wage': 82000,\n",
       " 'Player_Position': 'LWB',\n",
       " 'Preferred_Foot': 'Left',\n",
       " 'Body_Type': 'Normal',\n",
       " 'Stamina': 79}"
      ]
     },
     "execution_count": 21,
     "metadata": {},
     "output_type": "execute_result"
    }
   ],
   "source": [
    "show_player_stats(200536)"
   ]
  },
  {
   "cell_type": "markdown",
   "metadata": {},
   "source": [
    "# Q17"
   ]
  },
  {
   "cell_type": "code",
   "execution_count": 22,
   "metadata": {},
   "outputs": [
    {
     "data": {
      "text/plain": [
       "{'Messi': 1,\n",
       " 'C. Ronaldo': 1,\n",
       " 'Neymar': 1,\n",
       " 'Normal': 10750,\n",
       " 'Lean': 6505,\n",
       " 'PLAYER_BODY_TYPE_25': 1,\n",
       " 'Stocky': 1016,\n",
       " 'Courtois': 1,\n",
       " 'Shaqiri': 1,\n",
       " 'Akinfenwa': 1}"
      ]
     },
     "execution_count": 22,
     "metadata": {},
     "output_type": "execute_result"
    }
   ],
   "source": [
    "body_dict = {}\n",
    "for i in df['Body_Type']:\n",
    "    if i not in body_dict.keys():\n",
    "        body_dict[i] = 1\n",
    "    else:\n",
    "        body_dict[i] += 1\n",
    "body_dict"
   ]
  },
  {
   "cell_type": "markdown",
   "metadata": {},
   "source": [
    "# Q18"
   ]
  },
  {
   "cell_type": "code",
   "execution_count": 23,
   "metadata": {},
   "outputs": [
    {
     "data": {
      "text/plain": [
       "{'Left': 4318, 'Right': 13960}"
      ]
     },
     "execution_count": 23,
     "metadata": {},
     "output_type": "execute_result"
    }
   ],
   "source": [
    "pre_foot_dict = {}\n",
    "for i in df['Preferred_Foot']:\n",
    "    if i not in pre_foot_dict.keys():\n",
    "        pre_foot_dict[i] = 1\n",
    "    else:\n",
    "        pre_foot_dict[i] += 1\n",
    "pre_foot_dict"
   ]
  },
  {
   "cell_type": "markdown",
   "metadata": {},
   "source": [
    "# Q19"
   ]
  },
  {
   "cell_type": "code",
   "execution_count": 24,
   "metadata": {},
   "outputs": [
    {
     "data": {
      "text/plain": [
       "70.6086956521739"
      ]
     },
     "execution_count": 24,
     "metadata": {},
     "output_type": "execute_result"
    }
   ],
   "source": [
    "df[df['Club'] == 'FC Bayern München']['Stamina'].mean()"
   ]
  },
  {
   "cell_type": "markdown",
   "metadata": {},
   "source": [
    "# Q20"
   ]
  },
  {
   "cell_type": "code",
   "execution_count": 25,
   "metadata": {},
   "outputs": [
    {
     "data": {
      "text/plain": [
       "{' SSV Jahn Regensburg': 60.16,\n",
       " '1. FC Heidenheim 1846': 61.758620689655174,\n",
       " '1. FC Kaiserslautern': 62.82142857142857,\n",
       " '1. FC Köln': 64.35483870967742,\n",
       " '1. FC Magdeburg': 65.16666666666667,\n",
       " '1. FC Nürnberg': 63.5,\n",
       " '1. FC Union Berlin': 63.93939393939394,\n",
       " '1. FSV Mainz 05': 64.36363636363636,\n",
       " 'AC Ajaccio': 56.291666666666664,\n",
       " 'AC Horsens': 64.38095238095238,\n",
       " 'AD Alcorcón': 61.48,\n",
       " 'ADO Den Haag': 55.68,\n",
       " 'AEK Athens': 63.785714285714285,\n",
       " 'AFC Eskilstuna': 54.7037037037037,\n",
       " 'AFC Wimbledon': 60.607142857142854,\n",
       " 'AIK': 63.88,\n",
       " 'AJ Auxerre': 63.233333333333334,\n",
       " 'AS Monaco': 61.15151515151515,\n",
       " 'AS Nancy Lorraine': 62.03333333333333,\n",
       " 'AS Saint-Étienne': 63.34375,\n",
       " 'AZ Alkmaar': 63.7037037037037,\n",
       " 'Aalborg BK': 64.125,\n",
       " 'Aarhus GF': 61.0,\n",
       " 'Aberdeen': 66.3076923076923,\n",
       " 'Abha Club': 60.714285714285715,\n",
       " 'Academica Clinceni': 61.30769230769231,\n",
       " 'Accrington Stanley': 64.39285714285714,\n",
       " 'Adelaide United': 61.095238095238095,\n",
       " 'Ajax': 69.53333333333333,\n",
       " 'Al Adalah': 58.72,\n",
       " 'Al Ahli': 65.06666666666666,\n",
       " 'Al Ain FC': 63.44444444444444,\n",
       " 'Al Faisaly': 61.55,\n",
       " 'Al Fateh': 61.785714285714285,\n",
       " 'Al Fayha': 62.03846153846154,\n",
       " 'Al Hazem': 63.148148148148145,\n",
       " 'Al Hilal': 63.6551724137931,\n",
       " 'Al Ittihad': 62.9,\n",
       " 'Al Nassr': 64.6,\n",
       " 'Al Raed': 61.59090909090909,\n",
       " 'Al Shabab': 62.06666666666667,\n",
       " 'Al Taawoun': 62.61538461538461,\n",
       " 'Al Wehda': 61.607142857142854,\n",
       " 'Alanyaspor': 63.86206896551724,\n",
       " 'Albacete BP': 65.10714285714286,\n",
       " 'Alianza Petrolera': 63.607142857142854,\n",
       " 'Amiens SC': 63.09375,\n",
       " 'América de Cali': 64.96428571428571,\n",
       " 'Angers SCO': 63.516129032258064,\n",
       " 'Antalyaspor': 61.57142857142857,\n",
       " 'Argentinos Juniors': 61.642857142857146,\n",
       " 'Arka Gdynia': 65.70370370370371,\n",
       " 'Arsenal': 68.63636363636364,\n",
       " 'Arsenal de Sarandí': 64.35714285714286,\n",
       " 'Ascoli': 58.13793103448276,\n",
       " 'Aston Villa': 63.54545454545455,\n",
       " 'Astra Giurgiu': 64.92592592592592,\n",
       " 'Atalanta': 67.89285714285714,\n",
       " 'Athletic Club de Bilbao': 67.39393939393939,\n",
       " 'Atiker Konyaspor': 65.14814814814815,\n",
       " 'Atlanta United': 62.266666666666666,\n",
       " 'Atlético Bucaramanga': 63.0,\n",
       " 'Atlético Huila': 60.84,\n",
       " 'Atlético Madrid': 67.81818181818181,\n",
       " 'Atlético Mineiro': 66.1,\n",
       " 'Atlético Nacional': 65.92857142857143,\n",
       " 'Atlético Paranaense': 61.65,\n",
       " 'Atlético Tucumán': 59.333333333333336,\n",
       " 'Atlético de San Luis': 63.074074074074076,\n",
       " 'Audax Italiano': 61.208333333333336,\n",
       " 'Australia': 78.5,\n",
       " 'Austria': 32.0,\n",
       " 'Avaí FC': 64.2,\n",
       " 'BK Häcken': 60.81481481481482,\n",
       " 'BSC Young Boys': 64.25925925925925,\n",
       " 'Bahia': 66.4,\n",
       " 'Barnsley': 62.766666666666666,\n",
       " 'Bayer 04 Leverkusen': 68.6,\n",
       " 'Bayern München II': 60.714285714285715,\n",
       " 'Beijing Renhe FC': 62.67857142857143,\n",
       " 'Beijing Sinobo Guoan FC': 66.5,\n",
       " 'Benevento': 63.04347826086956,\n",
       " 'Beşiktaş JK': 63.43333333333333,\n",
       " 'Birmingham City': 65.23333333333333,\n",
       " 'Blackburn Rovers': 64.23333333333333,\n",
       " 'Blackpool': 60.42857142857143,\n",
       " 'Boavista FC': 62.62068965517241,\n",
       " 'Boca Juniors': 68.28571428571429,\n",
       " 'Bohemian FC': 57.52,\n",
       " 'Bolivia': 69.76190476190476,\n",
       " 'Bologna': 62.516129032258064,\n",
       " 'Bolton Wanderers': 57.69565217391305,\n",
       " 'Borussia Dortmund': 67.6774193548387,\n",
       " 'Borussia Mönchengladbach': 65.93939393939394,\n",
       " 'Botafogo': 62.5,\n",
       " 'Bournemouth': 65.54545454545455,\n",
       " 'Bradford City': 61.76,\n",
       " 'Brentford': 63.63333333333333,\n",
       " 'Brescia': 65.03571428571429,\n",
       " 'Brighton & Hove Albion': 64.39393939393939,\n",
       " 'Brisbane Roar': 64.16666666666667,\n",
       " 'Bristol City': 65.23333333333333,\n",
       " 'Bristol Rovers': 62.392857142857146,\n",
       " 'Brøndby IF': 64.14814814814815,\n",
       " 'Bulgaria': 59.1,\n",
       " 'Burnley': 63.21212121212121,\n",
       " 'Burton Albion': 59.15384615384615,\n",
       " 'Bury': 54.083333333333336,\n",
       " 'CA Osasuna': 62.93333333333333,\n",
       " 'CD Antofagasta': 60.916666666666664,\n",
       " 'CD Aves': 61.24,\n",
       " 'CD Cobresal': 63.57142857142857,\n",
       " 'CD Everton de Viña del Mar': 59.5,\n",
       " 'CD Huachipato': 59.464285714285715,\n",
       " 'CD Leganés': 61.24242424242424,\n",
       " 'CD Lugo': 62.0,\n",
       " 'CD Mirandés': 52.333333333333336,\n",
       " 'CD Numancia': 61.25925925925926,\n",
       " \"CD O'Higgins\": 62.25925925925926,\n",
       " 'CD Palestino': 61.28,\n",
       " 'CD Tenerife': 65.26666666666667,\n",
       " 'CD Tondela': 61.629629629629626,\n",
       " 'CD Universidad de Concepción': 63.19230769230769,\n",
       " 'CF Fuenlabrada': 57.93103448275862,\n",
       " 'CFR Cluj': 67.77777777777777,\n",
       " 'CSA - AL': 64.2,\n",
       " 'Cagliari': 63.45161290322581,\n",
       " 'Cambridge United': 64.54166666666667,\n",
       " 'Cameroon': 73.0,\n",
       " 'Canada': 40.0,\n",
       " 'Cardiff City': 63.53333333333333,\n",
       " 'Carlisle United': 56.2,\n",
       " 'Castellammare di Stabia': 59.07142857142857,\n",
       " 'Ceará Sporting Club': 62.9,\n",
       " 'Celtic': 67.39285714285714,\n",
       " 'Central Coast Mariners': 66.15,\n",
       " 'Central Córdoba': 60.92857142857143,\n",
       " 'Cerezo Osaka': 63.233333333333334,\n",
       " 'Chamois Niortais Football Club': 59.370370370370374,\n",
       " 'Chapecoense': 65.4,\n",
       " 'Charlton Athletic': 63.41379310344828,\n",
       " 'Chelsea': 67.0,\n",
       " 'Cheltenham Town': 62.5,\n",
       " 'Chemnitzer FC': 60.61538461538461,\n",
       " 'Chicago Fire': 63.18518518518518,\n",
       " 'Chievo Verona': 61.93333333333333,\n",
       " 'Chile': 91.0,\n",
       " 'Chindia Târgovişte': 59.91304347826087,\n",
       " 'Chongqing Dangdai Lifan FC SWM Team': 58.36,\n",
       " 'Cittadella': 59.11538461538461,\n",
       " 'Clermont Foot 63': 59.74074074074074,\n",
       " 'Club América': 63.18181818181818,\n",
       " 'Club Atlas': 61.07142857142857,\n",
       " 'Club Atlético Aldosivi': 60.65384615384615,\n",
       " 'Club Atlético Banfield': 65.14285714285714,\n",
       " 'Club Atlético Colón': 65.92857142857143,\n",
       " 'Club Atlético Huracán': 65.68,\n",
       " 'Club Atlético Lanús': 66.28571428571429,\n",
       " 'Club Atlético Talleres': 62.464285714285715,\n",
       " 'Club Brugge KV': 67.37037037037037,\n",
       " 'Club León': 62.142857142857146,\n",
       " 'Club Necaxa': 62.07142857142857,\n",
       " 'Club Tijuana': 61.535714285714285,\n",
       " 'Clube Sport Marítimo': 64.0,\n",
       " 'Colchester United': 65.42857142857143,\n",
       " 'Colo-Colo': 66.28,\n",
       " 'Colombia': 93.0,\n",
       " 'Colorado Rapids': 60.55555555555556,\n",
       " 'Columbus Crew SC': 64.21428571428571,\n",
       " 'Coquimbo Unido': 61.15384615384615,\n",
       " 'Cork City': 55.13636363636363,\n",
       " 'Cosenza': 62.90909090909091,\n",
       " 'Coventry City': 61.17857142857143,\n",
       " 'Cracovia': 62.55555555555556,\n",
       " 'Crawley Town': 60.07142857142857,\n",
       " 'Crewe Alexandra': 58.56,\n",
       " 'Crotone': 58.07692307692308,\n",
       " 'Cruz Azul': 67.35714285714286,\n",
       " 'Cruzeiro': 63.65,\n",
       " 'Crystal Palace': 61.45454545454545,\n",
       " 'Curicó Unido': 55.96296296296296,\n",
       " 'Cádiz CF': 66.8,\n",
       " \"Côte d'Ivoire\": 45.42857142857143,\n",
       " 'Cúcuta Deportivo': 67.32142857142857,\n",
       " 'DC United': 67.51851851851852,\n",
       " 'DSC Arminia Bielefeld': 67.92592592592592,\n",
       " 'Daegu FC': 57.464285714285715,\n",
       " 'Dalian YiFang FC': 63.607142857142854,\n",
       " 'Damac FC': 59.541666666666664,\n",
       " 'Defensa y Justicia': 68.92857142857143,\n",
       " 'Denizlispor': 63.82608695652174,\n",
       " 'Deportes Iquique': 65.34615384615384,\n",
       " 'Deportes Tolima': 63.0,\n",
       " 'Deportivo Alavés': 63.84848484848485,\n",
       " 'Deportivo Cali': 63.392857142857146,\n",
       " 'Deportivo Pasto': 63.75,\n",
       " 'Deportivo Toluca': 61.84,\n",
       " 'Deportivo de La Coruña': 67.95833333333333,\n",
       " 'Derby County': 61.333333333333336,\n",
       " 'Derry City': 55.47826086956522,\n",
       " 'Dijon FCO': 61.041666666666664,\n",
       " 'Dinamo Bucureşti': 64.18518518518519,\n",
       " 'Dinamo Zagreb': 65.71428571428571,\n",
       " 'Djurgårdens IF': 60.5,\n",
       " 'Doncaster Rovers': 60.857142857142854,\n",
       " 'Dundalk': 63.608695652173914,\n",
       " 'Dynamo Kyiv': 66.07142857142857,\n",
       " 'ESTAC Troyes': 58.357142857142854,\n",
       " 'Ecuador': 66.6086956521739,\n",
       " 'Egypt': 59.705882352941174,\n",
       " 'Eintracht Braunschweig': 59.61538461538461,\n",
       " 'Eintracht Frankfurt': 66.06060606060606,\n",
       " 'Elche CF': 64.47619047619048,\n",
       " 'Empoli': 64.7,\n",
       " 'En Avant de Guingamp': 63.43333333333333,\n",
       " 'Envigado FC': 60.88461538461539,\n",
       " 'Esbjerg fB': 58.166666666666664,\n",
       " 'Estudiantes de La Plata': 61.84615384615385,\n",
       " 'Ettifaq FC': 58.925925925925924,\n",
       " 'Everton': 67.06060606060606,\n",
       " 'Exeter City': 70.71428571428571,\n",
       " 'Extremadura UD': 62.23076923076923,\n",
       " 'FC Admira Wacker Mödling': 54.42307692307692,\n",
       " 'FC Augsburg': 62.72727272727273,\n",
       " 'FC Barcelona': 68.51515151515152,\n",
       " 'FC Basel 1893': 66.22222222222223,\n",
       " 'FC Bayern München': 70.6086956521739,\n",
       " 'FC Botoşani': 59.55555555555556,\n",
       " 'FC Carl Zeiss Jena': 58.035714285714285,\n",
       " 'FC Chambly Oise': 59.266666666666666,\n",
       " 'FC Cincinnati': 62.689655172413794,\n",
       " 'FC Dallas': 63.107142857142854,\n",
       " 'FC Emmen': 57.107142857142854,\n",
       " 'FC Erzgebirge Aue': 61.241379310344826,\n",
       " 'FC Girondins de Bordeaux': 64.8125,\n",
       " 'FC Groningen': 63.2962962962963,\n",
       " 'FC Hansa Rostock': 65.0,\n",
       " 'FC Hermannstadt': 61.148148148148145,\n",
       " 'FC Ingolstadt 04': 62.73076923076923,\n",
       " 'FC Juárez': 60.46153846153846,\n",
       " 'FC København': 65.70370370370371,\n",
       " 'FC Lorient': 65.55172413793103,\n",
       " 'FC Lugano': 63.370370370370374,\n",
       " 'FC Luzern': 59.84,\n",
       " 'FC Metz': 61.81481481481482,\n",
       " 'FC Midtjylland': 67.37037037037037,\n",
       " 'FC Nantes': 57.696969696969695,\n",
       " 'FC Nordsjælland': 59.07692307692308,\n",
       " 'FC Paços de Ferreira': 59.67857142857143,\n",
       " 'FC Porto': 66.03333333333333,\n",
       " 'FC Red Bull Salzburg': 68.44444444444444,\n",
       " 'FC Schalke 04': 65.83333333333333,\n",
       " 'FC Seoul': 65.64285714285714,\n",
       " 'FC Sion': 63.0,\n",
       " 'FC Sochaux-Montbéliard': 58.5,\n",
       " 'FC St. Gallen': 62.370370370370374,\n",
       " 'FC St. Pauli': 61.4,\n",
       " 'FC Thun': 59.74074074074074,\n",
       " 'FC Tokyo': 65.66666666666667,\n",
       " 'FC Twente': 62.5,\n",
       " 'FC Utrecht': 64.37037037037037,\n",
       " 'FC Viitorul': 54.629629629629626,\n",
       " 'FC Voluntari': 58.74074074074074,\n",
       " 'FC Würzburger Kickers': 58.714285714285715,\n",
       " 'FC Zürich': 62.34615384615385,\n",
       " 'FCSB (Steaua)': 67.81481481481481,\n",
       " 'FK Austria Wien': 66.11111111111111,\n",
       " 'FK Bodø/Glimt': 62.2962962962963,\n",
       " 'FK Haugesund': 61.81481481481482,\n",
       " 'FSV Zwickau': 60.56521739130435,\n",
       " 'Falkenbergs FF': 64.91666666666667,\n",
       " 'Famalicão': 59.291666666666664,\n",
       " 'Fenerbahçe SK': 64.82758620689656,\n",
       " 'Feyenoord': 65.1,\n",
       " 'Finland': 61.0,\n",
       " 'Finn Harps': 52.96,\n",
       " 'Fiorentina': 62.733333333333334,\n",
       " 'Fleetwood Town': 57.92857142857143,\n",
       " 'Fluminense': 64.0,\n",
       " 'Forest Green Rovers': 67.29166666666667,\n",
       " 'Fortaleza': 63.65,\n",
       " 'Fortuna Düsseldorf': 61.81818181818182,\n",
       " 'Fortuna Sittard': 53.72,\n",
       " 'Frosinone': 63.96,\n",
       " 'Fulham': 60.833333333333336,\n",
       " 'GIF Sundsvall': 73.0,\n",
       " 'Galatasaray SK': 65.6,\n",
       " 'Gamba Osaka': 60.62068965517241,\n",
       " 'Gangwon FC': 61.535714285714285,\n",
       " 'Gaz Metan Mediaş': 57.77777777777778,\n",
       " 'Gazişehir Gaziantep F.K.': 63.53333333333333,\n",
       " 'Genoa': 60.25,\n",
       " 'Gençlerbirliği SK': 62.666666666666664,\n",
       " 'Getafe CF': 60.56666666666667,\n",
       " 'Gil Vicente FC': 63.92307692307692,\n",
       " 'Gillingham': 69.70370370370371,\n",
       " 'Gimnasia y Esgrima La Plata': 59.82142857142857,\n",
       " 'Girona FC': 64.48,\n",
       " 'Godoy Cruz': 61.17857142857143,\n",
       " 'Goiás': 63.0,\n",
       " 'Granada CF': 62.77777777777778,\n",
       " 'Grenoble Foot 38': 63.89655172413793,\n",
       " 'Grimsby Town': 61.535714285714285,\n",
       " 'Grêmio': 65.65,\n",
       " 'Guadalajara': 65.44444444444444,\n",
       " 'Guangzhou Evergrande Taobao FC': 65.60714285714286,\n",
       " 'Guangzhou R&F FC': 63.55555555555556,\n",
       " 'Gyeongnam FC': 58.92857142857143,\n",
       " 'Górnik Zabrze': 61.074074074074076,\n",
       " 'Göztepe SK': 59.642857142857146,\n",
       " 'HJK Helsinki': 61.857142857142854,\n",
       " 'Hallescher FC': 65.75,\n",
       " 'Hamburger SV': 64.33333333333333,\n",
       " 'Hamilton Academical FC': 57.07142857142857,\n",
       " 'Hammarby IF': 62.5,\n",
       " 'Hannover 96': 63.107142857142854,\n",
       " 'Heart of Midlothian': 64.5,\n",
       " 'Hebei China Fortune FC': 60.26923076923077,\n",
       " 'Hellas Verona': 65.42424242424242,\n",
       " 'Helsingborgs IF': 57.148148148148145,\n",
       " 'Henan Jianye FC': 64.5925925925926,\n",
       " 'Heracles Almelo': 61.44444444444444,\n",
       " 'Hertha BSC': 62.90909090909091,\n",
       " 'Hibernian': 66.79166666666667,\n",
       " 'Hobro IK': 62.583333333333336,\n",
       " 'Hokkaido Consadole Sapporo': 61.916666666666664,\n",
       " 'Holstein Kiel': 64.64285714285714,\n",
       " 'Houston Dynamo': 61.241379310344826,\n",
       " 'Huddersfield Town': 61.666666666666664,\n",
       " 'Hull City': 61.63333333333333,\n",
       " 'Hungary': 60.666666666666664,\n",
       " 'IF Elfsborg': 62.52173913043478,\n",
       " 'IFK Göteborg': 64.21739130434783,\n",
       " 'IFK Norrköping': 66.11538461538461,\n",
       " 'IK Sirius': 62.111111111111114,\n",
       " 'Iceland': 64.18181818181819,\n",
       " 'Incheon United FC': 61.75,\n",
       " 'Independiente': 66.67857142857143,\n",
       " 'Independiente Medellín': 70.03571428571429,\n",
       " 'Independiente Santa Fe': 64.21428571428571,\n",
       " 'India': 61.47826086956522,\n",
       " 'Inter': 64.83333333333333,\n",
       " 'Internacional': 64.85,\n",
       " 'Ipswich Town': 64.92857142857143,\n",
       " 'Jagiellonia Białystok': 62.7037037037037,\n",
       " 'Jaguares de Córdoba': 61.458333333333336,\n",
       " 'Jeju United FC': 61.607142857142854,\n",
       " 'Jeonbuk Hyundai Motors': 61.964285714285715,\n",
       " 'Jiangsu Suning FC': 60.8,\n",
       " 'Junior FC': 62.17857142857143,\n",
       " 'Juventus': 69.66666666666667,\n",
       " 'Júbilo Iwata': 62.766666666666666,\n",
       " 'KAA Gent': 66.39285714285714,\n",
       " 'KAS Eupen': 59.51851851851852,\n",
       " 'KFC Uerdingen 05': 65.10714285714286,\n",
       " 'KRC Genk': 67.85714285714286,\n",
       " 'KSV Cercle Brugge': 56.96296296296296,\n",
       " 'KV Kortrijk': 63.57692307692308,\n",
       " 'KV Mechelen': 58.714285714285715,\n",
       " 'KV Oostende': 59.34615384615385,\n",
       " 'Kaizer Chiefs': 60.535714285714285,\n",
       " 'Kalmar FF': 64.29629629629629,\n",
       " 'Karlsruher SC': 60.464285714285715,\n",
       " 'Kashima Antlers': 60.36666666666667,\n",
       " 'Kasimpaşa SK': 65.96296296296296,\n",
       " 'Kawasaki Frontale': 63.03448275862069,\n",
       " 'Kayserispor': 58.758620689655174,\n",
       " 'Kilmarnock': 61.54545454545455,\n",
       " 'Korona Kielce': 58.111111111111114,\n",
       " 'Kristiansund BK': 62.095238095238095,\n",
       " 'LA Galaxy': 64.37037037037037,\n",
       " 'LASK Linz': 63.55555555555556,\n",
       " 'LKS Lodz': 61.03703703703704,\n",
       " 'LOSC Lille': 63.225806451612904,\n",
       " 'La Berrichonne de Châteauroux': 60.73076923076923,\n",
       " 'La Equidad': 58.857142857142854,\n",
       " 'Lazio': 64.27272727272727,\n",
       " 'Le Havre AC': 65.57692307692308,\n",
       " 'Le Mans FC': 60.833333333333336,\n",
       " 'Lecce': 60.54545454545455,\n",
       " 'Lech Poznań': 61.74074074074074,\n",
       " 'Lechia Gdańsk': 64.03703703703704,\n",
       " 'Leeds United': 70.33333333333333,\n",
       " 'Legia Warszawa': 62.888888888888886,\n",
       " 'Leicester City': 66.48484848484848,\n",
       " 'Levante UD': 65.8125,\n",
       " 'Leyton Orient': 59.111111111111114,\n",
       " 'Lillestrøm SK': 62.0,\n",
       " 'Lincoln City': 64.78260869565217,\n",
       " 'Liverpool': 67.78787878787878,\n",
       " 'Livingston FC': 59.964285714285715,\n",
       " 'Livorno': 58.43333333333333,\n",
       " 'Lokomotiv Moscow': 63.42857142857143,\n",
       " 'Los Angeles FC': 62.608695652173914,\n",
       " 'Luton Town': 61.56666666666667,\n",
       " 'Lyngby BK': 59.041666666666664,\n",
       " 'MKE Ankaragücü': 56.904761904761905,\n",
       " 'MSV Duisburg': 61.541666666666664,\n",
       " 'Macclesfield Town': 65.125,\n",
       " 'Malmö FF': 69.25,\n",
       " 'Manchester City': 67.48484848484848,\n",
       " 'Manchester United': 68.60606060606061,\n",
       " 'Mansfield Town': 66.39285714285714,\n",
       " 'Matsumoto Yamaga': 58.166666666666664,\n",
       " 'Medipol Başakşehir FK': 69.56666666666666,\n",
       " 'Melbourne City FC': 63.19047619047619,\n",
       " 'Melbourne Victory': 55.78947368421053,\n",
       " 'Mexico': 64.0,\n",
       " 'Middlesbrough': 60.53333333333333,\n",
       " 'Milan': 68.0,\n",
       " 'Millonarios FC': 59.714285714285715,\n",
       " 'Millwall': 64.03333333333333,\n",
       " 'Milton Keynes Dons': 66.1923076923077,\n",
       " 'Minnesota United FC': 63.0,\n",
       " 'Mjøndalen IF': 56.81818181818182,\n",
       " 'Molde FK': 64.44444444444444,\n",
       " 'Monarcas Morelia': 60.964285714285715,\n",
       " 'Monterrey': 67.75862068965517,\n",
       " 'Montpellier HSC': 64.77777777777777,\n",
       " 'Montreal Impact': 60.0,\n",
       " 'Morecambe': 60.2962962962963,\n",
       " 'Moreirense FC': 62.53846153846154,\n",
       " 'Motherwell': 64.20833333333333,\n",
       " 'Málaga CF': 63.4,\n",
       " 'Nagoya Grampus': 59.93103448275862,\n",
       " 'Napoli': 68.3225806451613,\n",
       " 'Netherlands': 85.0,\n",
       " 'Neuchâtel Xamax': 57.11538461538461,\n",
       " 'New England Revolution': 62.80769230769231,\n",
       " 'New York City FC': 62.375,\n",
       " 'New York Red Bulls': 68.51724137931035,\n",
       " 'New Zealand': 67.4,\n",
       " 'Newcastle Jets': 59.04545454545455,\n",
       " 'Newcastle United': 65.63636363636364,\n",
       " \"Newell's Old Boys\": 62.25,\n",
       " 'Newport County': 63.38461538461539,\n",
       " 'Northampton Town': 58.111111111111114,\n",
       " 'Northern Ireland': 51.5,\n",
       " 'Norwich City': 63.78787878787879,\n",
       " 'Nottingham Forest': 64.63333333333334,\n",
       " 'Nîmes Olympique': 63.26086956521739,\n",
       " 'OGC Nice': 62.689655172413794,\n",
       " 'Odds BK': 62.09090909090909,\n",
       " 'Odense Boldklub': 65.0909090909091,\n",
       " 'Oita Trinita': 63.86666666666667,\n",
       " 'Oldham Athletic': 59.57142857142857,\n",
       " 'Olympiacos CFP': 66.57142857142857,\n",
       " 'Olympique Lyonnais': 67.10344827586206,\n",
       " 'Olympique de Marseille': 66.37037037037037,\n",
       " 'Once Caldas': 66.60714285714286,\n",
       " 'Orlando City SC': 59.857142857142854,\n",
       " 'Orlando Pirates': 59.82142857142857,\n",
       " 'Os Belenenses': 62.8,\n",
       " 'Oxford United': 62.17857142857143,\n",
       " 'PAOK': 68.07407407407408,\n",
       " 'PEC Zwolle': 65.48148148148148,\n",
       " 'PFC CSKA Moscow': 64.45833333333333,\n",
       " 'PSV': 66.86666666666666,\n",
       " 'Pachuca': 68.8,\n",
       " 'Panathinaikos FC': 64.55555555555556,\n",
       " 'Paraguay': 60.111111111111114,\n",
       " 'Paris FC': 59.57692307692308,\n",
       " 'Paris Saint-Germain': 68.33333333333333,\n",
       " 'Parma': 63.06060606060606,\n",
       " 'Patriotas Boyacá FC': 63.357142857142854,\n",
       " 'Patronato': 64.57142857142857,\n",
       " 'Perth Glory': 60.52173913043478,\n",
       " 'Peru': 53.25,\n",
       " 'Perugia': 63.80769230769231,\n",
       " 'Pescara': 61.2,\n",
       " 'Peterborough United': 64.75,\n",
       " 'Philadelphia Union': 61.81481481481482,\n",
       " 'Piast Gliwice': 61.81481481481482,\n",
       " 'Pisa': 60.86666666666667,\n",
       " 'Plymouth Argyle': 62.92,\n",
       " 'Pogoń Szczecin': 63.148148148148145,\n",
       " 'Pohang Steelers': 64.42857142857143,\n",
       " 'Poland': 86.0,\n",
       " 'Politehnica Iaşi': 56.333333333333336,\n",
       " 'Pordenone': 66.24,\n",
       " 'Port Vale': 63.76,\n",
       " 'Portimonense SC': 64.6,\n",
       " 'Portland Timbers': 66.0,\n",
       " 'Portsmouth': 66.39285714285714,\n",
       " 'Preston North End': 65.06666666666666,\n",
       " 'Puebla FC': 65.74074074074075,\n",
       " 'Queens Park Rangers': 63.06666666666667,\n",
       " 'Querétaro': 62.42857142857143,\n",
       " 'RB Leipzig': 67.0909090909091,\n",
       " 'RC Celta': 62.666666666666664,\n",
       " 'RC Strasbourg Alsace': 61.535714285714285,\n",
       " 'RCD Espanyol': 60.86666666666667,\n",
       " 'RCD Mallorca': 64.85185185185185,\n",
       " 'RKC Waalwijk': 58.88,\n",
       " 'RSC Anderlecht': 62.714285714285715,\n",
       " 'Racing Club': 64.03571428571429,\n",
       " 'Racing Club de Lens': 61.56666666666667,\n",
       " 'Racing Santander': 63.57692307692308,\n",
       " 'Raków Częstochowa': 65.29166666666667,\n",
       " 'Randers FC': 62.24,\n",
       " 'Rangers FC': 68.07142857142857,\n",
       " 'Ranheim Fotball': 63.91304347826087,\n",
       " 'Rayo Vallecano': 61.733333333333334,\n",
       " 'Reading': 62.03333333333333,\n",
       " 'Real Betis': 61.87096774193548,\n",
       " 'Real Madrid': 72.12121212121212,\n",
       " 'Real Oviedo': 67.36666666666666,\n",
       " 'Real Salt Lake': 60.275862068965516,\n",
       " 'Real Sociedad': 57.86666666666667,\n",
       " 'Real Sporting de Gijón': 63.9,\n",
       " 'Real Valladolid CF': 65.45454545454545,\n",
       " 'Real Zaragoza': 66.51724137931035,\n",
       " 'Rio Ave FC': 59.629629629629626,\n",
       " 'Rionegro Águilas': 65.37037037037037,\n",
       " 'River Plate': 66.35714285714286,\n",
       " 'Rochdale': 57.44,\n",
       " 'Rodez Aveyron Football': 60.07692307692308,\n",
       " 'Roma': 64.03225806451613,\n",
       " 'Romania': 68.33333333333333,\n",
       " 'Rosario Central': 62.61538461538461,\n",
       " 'Rosenborg BK': 65.5925925925926,\n",
       " 'Ross County FC': 62.72,\n",
       " 'Rotherham United': 63.5,\n",
       " 'Royal Antwerp FC': 65.67857142857143,\n",
       " 'Royal Excel Mouscron': 56.857142857142854,\n",
       " 'Russia': 64.8,\n",
       " 'SC Braga': 66.85714285714286,\n",
       " 'SC Freiburg': 64.6774193548387,\n",
       " 'SC Heerenveen': 58.04347826086956,\n",
       " 'SC Paderborn 07': 60.03030303030303,\n",
       " 'SC Preußen Münster': 59.125,\n",
       " 'SCR Altach': 58.96296296296296,\n",
       " 'SD Eibar': 66.78571428571429,\n",
       " 'SD Huesca': 59.65384615384615,\n",
       " 'SD Ponferradina': 58.73076923076923,\n",
       " 'SG Dynamo Dresden': 63.7037037037037,\n",
       " 'SG Sonnenhof Großaspach': 60.64,\n",
       " 'SK Brann': 64.78260869565217,\n",
       " 'SK Rapid Wien': 67.08,\n",
       " 'SK Slavia Praha': 69.6,\n",
       " 'SK Sturm Graz': 64.12,\n",
       " 'SKN St. Pölten': 57.375,\n",
       " 'SL Benfica': 68.33333333333333,\n",
       " 'SPAL': 56.592592592592595,\n",
       " 'SV Darmstadt 98': 62.8,\n",
       " 'SV Mattersburg': 59.88,\n",
       " 'SV Meppen': 61.44,\n",
       " 'SV Sandhausen': 66.16666666666667,\n",
       " 'SV Waldhof Mannheim': 60.51851851851852,\n",
       " 'SV Wehen Wiesbaden': 63.93333333333333,\n",
       " 'SV Werder Bremen': 60.84375,\n",
       " 'SV Zulte-Waregem': 62.77777777777778,\n",
       " 'Sagan Tosu': 62.43333333333333,\n",
       " 'Salford City': 64.39285714285714,\n",
       " 'Sampdoria': 63.25,\n",
       " 'San Jose Earthquakes': 66.37931034482759,\n",
       " 'San Lorenzo de Almagro': 65.03571428571429,\n",
       " 'Sanfrecce Hiroshima': 65.41666666666667,\n",
       " 'Sangju Sangmu FC': 63.82142857142857,\n",
       " 'Santa Clara': 63.7037037037037,\n",
       " 'Santos': 60.7,\n",
       " 'Santos Laguna': 67.6,\n",
       " 'Sarpsborg 08 FF': 65.22222222222223,\n",
       " 'Sassuolo': 60.07142857142857,\n",
       " 'Scunthorpe United': 63.357142857142854,\n",
       " 'Seattle Sounders FC': 67.14814814814815,\n",
       " 'Seongnam FC': 66.0,\n",
       " 'Sepsi OSK': 63.03703703703704,\n",
       " 'Servette FC': 57.84615384615385,\n",
       " 'Sevilla FC': 63.90909090909091,\n",
       " 'Shakhtar Donetsk': 66.53571428571429,\n",
       " 'Shamrock Rovers': 61.04545454545455,\n",
       " 'Shandong Luneng TaiShan FC': 65.46428571428571,\n",
       " 'Shanghai Greenland Shenhua FC': 66.17857142857143,\n",
       " 'Shanghai SIPG FC': 63.82142857142857,\n",
       " 'Sheffield United': 61.57575757575758,\n",
       " 'Sheffield Wednesday': 61.833333333333336,\n",
       " 'Shenzhen FC': 58.370370370370374,\n",
       " 'Shimizu S-Pulse': 58.46666666666667,\n",
       " 'Shonan Bellmare': 57.5,\n",
       " 'Shrewsbury': 65.53571428571429,\n",
       " 'Silkeborg IF': 58.888888888888886,\n",
       " 'Sint-Truidense VV': 55.36,\n",
       " 'Sivasspor': 60.07692307692308,\n",
       " 'Sligo Rovers': 59.76190476190476,\n",
       " 'Slovenia': 56.0,\n",
       " 'South Africa': 65.5,\n",
       " 'Southampton': 63.333333333333336,\n",
       " 'Southend United': 66.03571428571429,\n",
       " 'SpVgg Greuther Fürth': 60.724137931034484,\n",
       " 'SpVgg Unterhaching': 62.607142857142854,\n",
       " 'Sparta Praha': 65.28571428571429,\n",
       " 'Sparta Rotterdam': 60.42857142857143,\n",
       " 'Spartak Moscow': 63.57142857142857,\n",
       " 'Spezia': 60.233333333333334,\n",
       " 'Sporting CP': 67.7,\n",
       " 'Sporting Kansas City': 63.42857142857143,\n",
       " 'Sporting de Charleroi': 58.25925925925926,\n",
       " 'St. Johnstone FC': 58.708333333333336,\n",
       " 'St. Mirren': 61.91304347826087,\n",
       " \"St. Patrick's Athletic\": 62.32,\n",
       " 'Stabæk Fotball': 58.77777777777778,\n",
       " 'Stade Brestois 29': 65.64,\n",
       " 'Stade Malherbe Caen': 62.04,\n",
       " 'Stade Rennais FC': 65.21739130434783,\n",
       " 'Stade de Reims': 64.15384615384616,\n",
       " 'Standard de Liège': 66.03571428571429,\n",
       " 'Stevenage': 60.42857142857143,\n",
       " 'Stoke City': 69.23333333333333,\n",
       " 'Strømsgodset IF': 63.51851851851852,\n",
       " 'Sunderland': 64.03571428571429,\n",
       " 'Suwon Samsung Bluewings': 66.25,\n",
       " 'Swansea City': 59.63333333333333,\n",
       " 'Sweden': 78.33333333333333,\n",
       " 'Swindon Town': 61.0,\n",
       " 'Sydney FC': 67.33333333333333,\n",
       " 'SønderjyskE': 63.03703703703704,\n",
       " 'TSG 1899 Hoffenheim': 67.96666666666667,\n",
       " 'TSV 1860 München': 63.32142857142857,\n",
       " 'TSV Hartberg': 62.61538461538461,\n",
       " 'Tianjin Quanjian FC': 61.888888888888886,\n",
       " 'Tianjin TEDA FC': 63.5,\n",
       " 'Tiburones Rojos de Veracruz': 59.629629629629626,\n",
       " 'Tigres U.A.N.L.': 65.26923076923077,\n",
       " 'Torino': 60.793103448275865,\n",
       " 'Toronto FC': 63.266666666666666,\n",
       " 'Tottenham Hotspur': 69.87878787878788,\n",
       " 'Toulouse Football Club': 63.793103448275865,\n",
       " 'Trabzonspor': 63.63333333333333,\n",
       " 'Tranmere Rovers': 64.35714285714286,\n",
       " 'Trapani': 55.208333333333336,\n",
       " 'Tromsø IL': 58.333333333333336,\n",
       " 'Turkey': 83.0,\n",
       " 'U.N.A.M.': 64.12,\n",
       " 'UCD AFC': 51.714285714285715,\n",
       " 'UD Almería': 57.214285714285715,\n",
       " 'UD Las Palmas': 63.4,\n",
       " 'US Cremonese': 64.29166666666667,\n",
       " 'US Orléans Loiret Football': 52.0,\n",
       " 'US Salernitana 1919': 62.6,\n",
       " 'Udinese': 62.27272727272727,\n",
       " 'Ulsan Hyundai FC': 64.14285714285714,\n",
       " 'Universidad Católica': 67.89285714285714,\n",
       " 'Universidad de Chile': 63.46153846153846,\n",
       " 'Universitatea Craiova': 70.14814814814815,\n",
       " 'Unión Española': 65.33333333333333,\n",
       " 'Unión La Calera': 62.416666666666664,\n",
       " 'Unión Magdalena': 53.892857142857146,\n",
       " 'Unión de Santa Fe': 63.08,\n",
       " 'Urawa Red Diamonds': 61.93333333333333,\n",
       " 'Uruguay': 70.43478260869566,\n",
       " 'VVV-Venlo': 57.74074074074074,\n",
       " 'Valencia CF': 61.42424242424242,\n",
       " 'Valenciennes FC': 61.333333333333336,\n",
       " 'Vancouver Whitecaps FC': 63.42857142857143,\n",
       " 'Vegalta Sendai': 60.6551724137931,\n",
       " 'Venezia FC': 60.3448275862069,\n",
       " 'Venezuela': 45.666666666666664,\n",
       " 'VfB Stuttgart': 61.53333333333333,\n",
       " 'VfL Bochum 1848': 62.724137931034484,\n",
       " 'VfL Osnabrück': 65.23333333333333,\n",
       " 'VfL Wolfsburg': 64.39393939393939,\n",
       " 'Viking FK': 65.04,\n",
       " 'Viktoria Köln': 60.785714285714285,\n",
       " 'Viktoria Plzeň': 62.76,\n",
       " 'Villarreal CF': 60.875,\n",
       " 'Virtus Entella': 62.6,\n",
       " 'Vissel Kobe': 60.41379310344828,\n",
       " 'Vitesse': 62.38461538461539,\n",
       " 'Vitória Guimarães': 64.46666666666667,\n",
       " 'Vitória de Setúbal': 54.4,\n",
       " 'Vålerenga Fotball': 65.81481481481481,\n",
       " 'Vélez Sarsfield': 68.57142857142857,\n",
       " 'WSG Tirol': 60.2,\n",
       " 'Waasland-Beveren': 56.80769230769231,\n",
       " 'Wales': 60.5,\n",
       " 'Walsall': 68.38461538461539,\n",
       " 'Waterford FC': 53.55,\n",
       " 'Watford': 65.21212121212122,\n",
       " 'Wellington Phoenix': 67.75,\n",
       " 'West Bromwich Albion': 64.26666666666667,\n",
       " 'West Ham United': 60.72727272727273,\n",
       " 'Western United FC': 63.6,\n",
       " 'Wigan Athletic': 63.53333333333333,\n",
       " 'Willem II': 56.68181818181818,\n",
       " 'Wisła Kraków': 60.03703703703704,\n",
       " 'Wisła Płock': 60.96296296296296,\n",
       " 'Wolfsberger AC': 59.65384615384615,\n",
       " 'Wolverhampton Wanderers': 64.66666666666667,\n",
       " 'Wuhan Zall': 62.0,\n",
       " 'Wycombe Wanderers': 69.25,\n",
       " 'Yeni Malatyaspor': 58.857142857142854,\n",
       " 'Yokohama F. Marinos': 65.81481481481481,\n",
       " 'Zagłębie Lubin': 61.68,\n",
       " 'Çaykur Rizespor': 64.17391304347827,\n",
       " 'Örebro SK': 62.51851851851852,\n",
       " 'Östersunds FK': 61.0,\n",
       " 'Śląsk Wrocław': 55.0}"
      ]
     },
     "execution_count": 25,
     "metadata": {},
     "output_type": "execute_result"
    }
   ],
   "source": [
    "df.groupby('Club').mean()['Stamina'].to_dict()"
   ]
  }
 ],
 "metadata": {
  "kernelspec": {
   "display_name": "Python 3",
   "language": "python",
   "name": "python3"
  },
  "language_info": {
   "codemirror_mode": {
    "name": "ipython",
    "version": 3
   },
   "file_extension": ".py",
   "mimetype": "text/x-python",
   "name": "python",
   "nbconvert_exporter": "python",
   "pygments_lexer": "ipython3",
   "version": "3.7.6"
  }
 },
 "nbformat": 4,
 "nbformat_minor": 4
}
